{
 "cells": [
  {
   "cell_type": "markdown",
   "id": "64b3eaa3",
   "metadata": {},
   "source": [
    "# DEEPLEARNING ASSIGNMENT-04"
   ]
  },
  {
   "cell_type": "markdown",
   "id": "62f59ef7",
   "metadata": {},
   "source": [
    "1. How would you describe TensorFlow in a short sentence? What are its main features? Can\n",
    "you name other popular Deep Learning libraries?\n"
   ]
  },
  {
   "cell_type": "raw",
   "id": "0101b1ba",
   "metadata": {},
   "source": [
    "TensorFlow is an open-source platform for building and deploying machine learning models. Its main features include a comprehensive ecosystem of tools and libraries, scalability, support for multiple devices and platforms, and easy deployment of models. Other popular Deep Learning libraries include PyTorch, Keras, and Theano."
   ]
  },
  {
   "cell_type": "markdown",
   "id": "1a495c4d",
   "metadata": {},
   "source": [
    "\n",
    "2. Is TensorFlow a drop-in replacement for NumPy? What are the main differences between\n",
    "the two?\n"
   ]
  },
  {
   "cell_type": "raw",
   "id": "b5bd6ded",
   "metadata": {},
   "source": [
    "TensorFlow is not a drop-in replacement for NumPy, as TensorFlow has its own data structures and operations that are optimized for distributed computing and GPU acceleration. TensorFlow also has its own implementation of many NumPy functions, but they may have slight differences in behavior or performance."
   ]
  },
  {
   "cell_type": "markdown",
   "id": "ebc7bf75",
   "metadata": {},
   "source": [
    "\n",
    "3. Do you get the same result with tf.range(10) and tf.constant(np.arange(10))?\n"
   ]
  },
  {
   "cell_type": "raw",
   "id": "0d838bc5",
   "metadata": {},
   "source": [
    "No, the two commands do not produce the same result. tf.range(10) produces a tensor of shape (10,) with values [0, 1, 2, ..., 9], while tf.constant(np.arange(10)) produces a tensor of shape (1, 10) with the same values."
   ]
  },
  {
   "cell_type": "markdown",
   "id": "14f83c2a",
   "metadata": {},
   "source": [
    "\n",
    "4. Can you name six other data structures available in TensorFlow, beyond regular tensors?\n"
   ]
  },
  {
   "cell_type": "raw",
   "id": "c35cb872",
   "metadata": {},
   "source": [
    "Other data structures available in TensorFlow include SparseTensor, RaggedTensor, TensorArray, Dataset, Queue, and Lookup table."
   ]
  },
  {
   "cell_type": "markdown",
   "id": "f2be7998",
   "metadata": {},
   "source": [
    "\n",
    "5. A custom loss function can be defined by writing a function or by subclassing\n",
    "the keras.losses.Loss class. When would you use each option?\n"
   ]
  },
  {
   "cell_type": "raw",
   "id": "cb187ad6",
   "metadata": {},
   "source": [
    "Writing a custom loss function as a function is simpler and sufficient for most cases. Subclassing keras.losses.Loss is useful when the loss function requires additional state or when it needs to be used in a custom training loop."
   ]
  },
  {
   "cell_type": "markdown",
   "id": "8b8ca54a",
   "metadata": {},
   "source": [
    "\n",
    "6. Similarly, a custom metric can be defined in a function or a subclass of keras.metrics.Metric.\n",
    "When would you use each option?"
   ]
  },
  {
   "cell_type": "markdown",
   "id": "49ed67ae",
   "metadata": {},
   "source": [
    "Defining a custom metric as a function is simpler and sufficient for most cases. Subclassing keras.metrics.Metric is useful when the metric requires additional state or when it needs to be used in a custom training loop."
   ]
  },
  {
   "cell_type": "markdown",
   "id": "350e2a2d",
   "metadata": {},
   "source": [
    "\n",
    "7. When should you create a custom layer versus a custom model?\n"
   ]
  },
  {
   "cell_type": "markdown",
   "id": "75bb7340",
   "metadata": {},
   "source": [
    "A custom layer should be created when a new operation is needed that is not available in existing layers. A custom model should be created when a new architecture is needed that is not a combination of existing layers."
   ]
  },
  {
   "cell_type": "markdown",
   "id": "2444eba8",
   "metadata": {},
   "source": [
    "\n",
    "8. What are some use cases that require writing your own custom training loop?\n"
   ]
  },
  {
   "cell_type": "markdown",
   "id": "93ac78c5",
   "metadata": {},
   "source": [
    "Writing a custom training loop is useful when greater control is needed over the training process, for example, when implementing custom learning rate schedules, gradient clipping, or loss function modifications."
   ]
  },
  {
   "cell_type": "markdown",
   "id": "8a0c890c",
   "metadata": {},
   "source": [
    "\n",
    "9. Can custom Keras components contain arbitrary Python code, or must they be convertible to\n",
    "TF Functions?\n"
   ]
  },
  {
   "cell_type": "markdown",
   "id": "844b80ee",
   "metadata": {},
   "source": [
    "Custom Keras components must be convertible to TensorFlow Functions, which means that they must be written in TensorFlow-compatible Python code and use TensorFlow operations and data structures."
   ]
  },
  {
   "cell_type": "markdown",
   "id": "af6c139c",
   "metadata": {},
   "source": [
    "\n",
    "10. What are the main rules to respect if you want a function to be convertible to a TF Function?\n"
   ]
  },
  {
   "cell_type": "raw",
   "id": "6c498440",
   "metadata": {},
   "source": [
    "Functions that can be converted to TensorFlow Functions should be stateless, pure functions that do not have any side effects or internal state, and should use only TensorFlow operations and data structures. They should also not include any control flow statements like loops or conditionals, and should not rely on external libraries or input/output operations."
   ]
  },
  {
   "cell_type": "markdown",
   "id": "189003ca",
   "metadata": {},
   "source": [
    "11. When would you need to create a dynamic Keras model? How do you do that? Why not\n",
    "make all your models dynamic?"
   ]
  },
  {
   "cell_type": "raw",
   "id": "3ebc75e2",
   "metadata": {},
   "source": [
    "In Keras, a dynamic model is a model whose architecture can change during runtime, as opposed to a static model where the architecture is fixed at the time of model creation. You would need to create a dynamic Keras model when you have a use case that requires changing the model architecture on the fly.\n",
    "\n",
    "One example is when dealing with variable-length input data, such as text or speech. In such cases, the input size can vary from one sample to another, and a dynamic model allows you to handle these variable input sizes."
   ]
  }
 ],
 "metadata": {
  "kernelspec": {
   "display_name": "Python 3 (ipykernel)",
   "language": "python",
   "name": "python3"
  },
  "language_info": {
   "codemirror_mode": {
    "name": "ipython",
    "version": 3
   },
   "file_extension": ".py",
   "mimetype": "text/x-python",
   "name": "python",
   "nbconvert_exporter": "python",
   "pygments_lexer": "ipython3",
   "version": "3.11.1"
  }
 },
 "nbformat": 4,
 "nbformat_minor": 5
}
